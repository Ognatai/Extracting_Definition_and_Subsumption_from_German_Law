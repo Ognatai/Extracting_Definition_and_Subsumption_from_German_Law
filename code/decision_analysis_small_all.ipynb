{
 "cells": [
  {
   "cell_type": "markdown",
   "metadata": {},
   "source": [
    "# Analysis of the small annotated corpus"
   ]
  },
  {
   "cell_type": "markdown",
   "metadata": {},
   "source": [
    "Analysis of the annotated corpus.  \n",
    "  \n",
    "We look for the following metrics:\n",
    "- courts\n",
    "- decision months\n",
    "- number of sentences\n",
    "- number of subsumtions\n",
    "- number of definitions\n",
    "- average length of judgments in sentences\n",
    "- propostion definition/subsumption to judgment "
   ]
  },
  {
   "cell_type": "code",
   "execution_count": 1,
   "metadata": {},
   "outputs": [],
   "source": [
    "import json\n",
    "import os\n",
    "import nltk\n",
    "import numpy as np\n",
    "import pandas as pd\n",
    "import matplotlib.pyplot as plt\n",
    "import seaborn as sns\n",
    "import statistics\n",
    "from collections import Counter"
   ]
  },
  {
   "cell_type": "markdown",
   "metadata": {},
   "source": [
    "Go through every judgement and get the data."
   ]
  },
  {
   "cell_type": "code",
   "execution_count": 2,
   "metadata": {},
   "outputs": [],
   "source": [
    "path = 'thesis_corpus/'\n",
    "\n",
    "num_sentences = []\n",
    "num_definition = []\n",
    "num_subsumption = []\n",
    "num_other = []\n",
    "courts = []\n",
    "month = []\n",
    "year = []\n",
    "\n",
    "for file in os.listdir(path):\n",
    "    with open(path+file, encoding='utf-8') as f:\n",
    "        data = json.load(f)\n",
    "    \n",
    "    file_definiton = 0\n",
    "    file_subsumption = 0\n",
    "    file_other = 0\n",
    "    \n",
    "    courts.append(data['meta']['court'])\n",
    "    \n",
    "    year.append(data['meta']['date'][6:])\n",
    "    month.append(data['meta']['date'][3:5])\n",
    "    \n",
    "    for paragraph in data['decision_text']['decision_reasons']:\n",
    "        for sentence in paragraph:\n",
    "            if sentence[1] == 'definition':\n",
    "                file_definiton += 1\n",
    "            if sentence[1] == 'subsumption':\n",
    "                file_subsumption += 1\n",
    "            if sentence[1] == 'other':\n",
    "                file_other += 1               \n",
    "    file_sentences = file_definiton + file_subsumption + file_other\n",
    "    \n",
    "    num_sentences.append(file_sentences)\n",
    "    num_subsumption.append(file_subsumption)\n",
    "    num_definition.append(file_definiton)\n",
    "    num_other.append(file_other) "
   ]
  },
  {
   "cell_type": "code",
   "execution_count": 7,
   "metadata": {},
   "outputs": [
    {
     "name": "stdout",
     "output_type": "stream",
     "text": [
      "Number all sentences: 25198\n",
      "Number all definitions: 5331\n",
      "Number all subsumptions: 13386\n",
      "Number all other: 6481\n"
     ]
    }
   ],
   "source": [
    "print('Number all sentences: ' + str(sum(num_sentences)))\n",
    "print('Number all definitions: ' + str(sum(num_definition)))\n",
    "print('Number all subsumptions: ' + str(sum(num_subsumption)))\n",
    "print('Number all other: ' + str(sum(num_other)))"
   ]
  },
  {
   "cell_type": "code",
   "execution_count": 59,
   "metadata": {},
   "outputs": [
    {
     "name": "stdout",
     "output_type": "stream",
     "text": [
      "percent definitions: 21.156440987379952\n",
      "percent subsumptions: 53.12326375109136\n",
      "percent other: 25.72029526152869\n"
     ]
    }
   ],
   "source": [
    "print('percent definitions: ' + str((sum(num_definition)/sum(num_sentences))*100))\n",
    "print('percent subsumptions: ' + str((sum(num_subsumption)/sum(num_sentences))*100))\n",
    "print('percent other: ' + str((sum(num_other)/sum(num_sentences))*100))"
   ]
  },
  {
   "cell_type": "code",
   "execution_count": 3,
   "metadata": {},
   "outputs": [
    {
     "data": {
      "text/html": [
       "<div>\n",
       "<style scoped>\n",
       "    .dataframe tbody tr th:only-of-type {\n",
       "        vertical-align: middle;\n",
       "    }\n",
       "\n",
       "    .dataframe tbody tr th {\n",
       "        vertical-align: top;\n",
       "    }\n",
       "\n",
       "    .dataframe thead th {\n",
       "        text-align: right;\n",
       "    }\n",
       "</style>\n",
       "<table border=\"1\" class=\"dataframe\">\n",
       "  <thead>\n",
       "    <tr style=\"text-align: right;\">\n",
       "      <th></th>\n",
       "      <th>Definition</th>\n",
       "      <th>Subsumption</th>\n",
       "      <th>Other</th>\n",
       "      <th>Length</th>\n",
       "    </tr>\n",
       "  </thead>\n",
       "  <tbody>\n",
       "    <tr>\n",
       "      <th>0</th>\n",
       "      <td>14</td>\n",
       "      <td>73</td>\n",
       "      <td>34</td>\n",
       "      <td>121</td>\n",
       "    </tr>\n",
       "    <tr>\n",
       "      <th>1</th>\n",
       "      <td>12</td>\n",
       "      <td>40</td>\n",
       "      <td>73</td>\n",
       "      <td>125</td>\n",
       "    </tr>\n",
       "    <tr>\n",
       "      <th>2</th>\n",
       "      <td>13</td>\n",
       "      <td>28</td>\n",
       "      <td>39</td>\n",
       "      <td>80</td>\n",
       "    </tr>\n",
       "    <tr>\n",
       "      <th>3</th>\n",
       "      <td>27</td>\n",
       "      <td>19</td>\n",
       "      <td>22</td>\n",
       "      <td>68</td>\n",
       "    </tr>\n",
       "    <tr>\n",
       "      <th>4</th>\n",
       "      <td>25</td>\n",
       "      <td>28</td>\n",
       "      <td>12</td>\n",
       "      <td>65</td>\n",
       "    </tr>\n",
       "  </tbody>\n",
       "</table>\n",
       "</div>"
      ],
      "text/plain": [
       "   Definition  Subsumption  Other  Length\n",
       "0          14           73     34     121\n",
       "1          12           40     73     125\n",
       "2          13           28     39      80\n",
       "3          27           19     22      68\n",
       "4          25           28     12      65"
      ]
     },
     "execution_count": 3,
     "metadata": {},
     "output_type": "execute_result"
    }
   ],
   "source": [
    "# make pandas dataframe from all this data\n",
    "\n",
    "judgment_names = data.keys()\n",
    "\n",
    "base_data = {'Definition':num_definition, 'Subsumption':num_subsumption, 'Other':num_other, 'Length':num_sentences}\n",
    "df = pd.DataFrame(base_data)\n",
    "\n",
    "df.head()"
   ]
  },
  {
   "cell_type": "code",
   "execution_count": 10,
   "metadata": {},
   "outputs": [
    {
     "data": {
      "image/png": "[encoded data removed]",
      "text/plain": [
       "<Figure size 360x720 with 1 Axes>"
      ]
     },
     "metadata": {
      "needs_background": "light"
     },
     "output_type": "display_data"
    }
   ],
   "source": [
    "# graphic judgment length\n",
    "\n",
    "plt.figure(figsize=(5,10))\n",
    "\n",
    "box_plot = sns.boxplot(y=df['Length'], width=0.5, palette='GnBu_d');\n",
    "median = df['Length'].median()\n",
    "\n",
    "vertical_offset = df['Length'].median() * 0.05 # offset from median for display\n",
    "\n",
    "for xtick in box_plot.get_xticks():\n",
    "    box_plot.text(xtick,median + vertical_offset,median, horizontalalignment='center',size='medium',color='w',weight='semibold')\n",
    "    \n",
    "# source: https://stackoverflow.com/questions/38649501/labeling-boxplot-in-seaborn-with-median-value"
   ]
  },
  {
   "cell_type": "code",
   "execution_count": 11,
   "metadata": {},
   "outputs": [],
   "source": [
    "# save figure\n",
    "\n",
    "fig = box_plot.get_figure()\n",
    "fig.savefig('judgement_length.pdf')\n",
    "\n",
    "# source: https://stackoverflow.com/questions/32244753/how-to-save-a-seaborn-plot-into-a-file"
   ]
  },
  {
   "cell_type": "code",
   "execution_count": 18,
   "metadata": {},
   "outputs": [
    {
     "data": {
      "text/plain": [
       "<Figure size 720x360 with 0 Axes>"
      ]
     },
     "metadata": {},
     "output_type": "display_data"
    },
    {
     "data": {
      "image/png": "[encoded data removed]",
      "text/plain": [
       "<Figure size 360x360 with 1 Axes>"
      ]
     },
     "metadata": {
      "needs_background": "light"
     },
     "output_type": "display_data"
    }
   ],
   "source": [
    "# graphic number of: definition, subsumption, other, sentences\n",
    "\n",
    "plt.figure(figsize=(10,5))\n",
    "\n",
    "chart = sns.catplot(data=df, kind='boxen', palette='GnBu_d')\n",
    "chart.set_axis_labels(\"\", \"count\")\n",
    "plt.subplots_adjust(left=0.15)"
   ]
  },
  {
   "cell_type": "code",
   "execution_count": 19,
   "metadata": {},
   "outputs": [],
   "source": [
    "# save figure\n",
    "\n",
    "fig = chart.fig\n",
    "fig.savefig('analysis.pdf')\n",
    "\n",
    "# source: https://stackoverflow.com/questions/32244753/how-to-save-a-seaborn-plot-into-a-file"
   ]
  },
  {
   "cell_type": "code",
   "execution_count": 14,
   "metadata": {},
   "outputs": [
    {
     "name": "stdout",
     "output_type": "stream",
     "text": [
      "Definition median 21.0\n",
      "Subsumption median 50.0\n",
      "Other median 21.0\n"
     ]
    }
   ],
   "source": [
    "# print medians for all lists\n",
    "\n",
    "defi = statistics.median(num_definition)\n",
    "subs = statistics.median(num_subsumption)\n",
    "othe = statistics.median(num_other)\n",
    "\n",
    "print('Definition median ' + str(defi) + '\\n' + 'Subsumption median ' + str(subs) + '\\n' + 'Other median ' + str(othe))"
   ]
  },
  {
   "cell_type": "code",
   "execution_count": 16,
   "metadata": {},
   "outputs": [
    {
     "name": "stdout",
     "output_type": "stream",
     "text": [
      "least: 38\n",
      "most: 862\n"
     ]
    }
   ],
   "source": [
    "print('least: ' + str(min(num_sentences)))\n",
    "print('most: ' + str(max(num_sentences)))"
   ]
  },
  {
   "cell_type": "code",
   "execution_count": 86,
   "metadata": {},
   "outputs": [
    {
     "data": {
      "image/png": "[encoded data removed]",
      "text/plain": [
       "<Figure size 576x360 with 1 Axes>"
      ]
     },
     "metadata": {
      "needs_background": "light"
     },
     "output_type": "display_data"
    }
   ],
   "source": [
    "plt.figure(figsize=(8,5))\n",
    "\n",
    "chart = sns.countplot(x=courts, palette='GnBu_d')\n",
    "plt.xticks(rotation='vertical')\n",
    "plt.subplots_adjust(bottom=0.30)\n",
    "fig = chart.get_figure()\n",
    "fig.savefig('courts.pdf')"
   ]
  },
  {
   "cell_type": "code",
   "execution_count": 45,
   "metadata": {},
   "outputs": [
    {
     "name": "stdout",
     "output_type": "stream",
     "text": [
      "[('VG Augsburg', 59), ('VG Ansbach', 39), ('LSG München', 33), ('FG München', 15), ('SG München', 7), ('VG Bayreuth', 7), ('FG Nürnberg', 6), ('OLG München', 5), ('SG Augsburg', 5), ('LArbG München', 4), ('LArbG Nürnberg', 4), ('LG München I', 3), ('Fürth', 2), ('OLG Bamberg', 2), ('SG Würzburg', 2), ('AG München', 1), ('LG Aschaffenburg', 1), ('LG Augsburg', 1), ('LG Würzburg', 1), ('SG Bayreuth', 1), ('SG Landshut', 1), ('SG Nürnberg', 1)]\n"
     ]
    }
   ],
   "source": [
    "print(Counter(courts).most_common())"
   ]
  },
  {
   "cell_type": "code",
   "execution_count": 87,
   "metadata": {},
   "outputs": [
    {
     "name": "stdout",
     "output_type": "stream",
     "text": [
      "29.5\n",
      "19.5\n",
      "16.5\n"
     ]
    }
   ],
   "source": [
    "print((59/200)*100)\n",
    "print((39/200)*100)\n",
    "print((33/200)*100)"
   ]
  },
  {
   "cell_type": "code",
   "execution_count": 78,
   "metadata": {},
   "outputs": [
    {
     "data": {
      "image/png": "[encoded data removed]",
      "text/plain": [
       "<Figure size 576x360 with 1 Axes>"
      ]
     },
     "metadata": {
      "needs_background": "light"
     },
     "output_type": "display_data"
    }
   ],
   "source": [
    "plt.figure(figsize=(8,5))\n",
    "\n",
    "chart = sns.countplot(x=month, palette='GnBu_d')\n",
    "fig = chart.get_figure()\n",
    "fig.savefig('months.pdf')"
   ]
  },
  {
   "cell_type": "code",
   "execution_count": 46,
   "metadata": {},
   "outputs": [
    {
     "name": "stdout",
     "output_type": "stream",
     "text": [
      "[('07', 26), ('02', 21), ('06', 20), ('04', 19), ('11', 18), ('10', 17), ('09', 16), ('05', 15), ('12', 14), ('03', 14), ('01', 14), ('08', 6)]\n"
     ]
    }
   ],
   "source": [
    "print(Counter(month).most_common())"
   ]
  },
  {
   "cell_type": "code",
   "execution_count": 88,
   "metadata": {},
   "outputs": [
    {
     "name": "stdout",
     "output_type": "stream",
     "text": [
      "13.0\n",
      "10.5\n",
      "10.0\n"
     ]
    }
   ],
   "source": [
    "print((26/200)*100)\n",
    "print((21/200)*100)\n",
    "print((20/200)*100)"
   ]
  },
  {
   "cell_type": "code",
   "execution_count": 20,
   "metadata": {},
   "outputs": [
    {
     "data": {
      "image/png": "[encoded data removed]",
      "text/plain": [
       "<Figure size 576x360 with 1 Axes>"
      ]
     },
     "metadata": {
      "needs_background": "light"
     },
     "output_type": "display_data"
    }
   ],
   "source": [
    "plt.figure(figsize=(8,5))\n",
    "\n",
    "chart = sns.countplot(x=year, palette='GnBu_d')\n",
    "fig = chart.get_figure()\n",
    "fig.savefig('years.pdf')"
   ]
  },
  {
   "cell_type": "code",
   "execution_count": 47,
   "metadata": {},
   "outputs": [
    {
     "name": "stdout",
     "output_type": "stream",
     "text": [
      "[('2016', 58), ('2017', 44), ('2015', 41), ('2018', 32), ('2019', 25)]\n"
     ]
    }
   ],
   "source": [
    "print(Counter(year).most_common())"
   ]
  },
  {
   "cell_type": "code",
   "execution_count": 89,
   "metadata": {},
   "outputs": [
    {
     "name": "stdout",
     "output_type": "stream",
     "text": [
      "28.999999999999996\n",
      "22.0\n",
      "20.5\n"
     ]
    }
   ],
   "source": [
    "print((58/200)*100)\n",
    "print((44/200)*100)\n",
    "print((41/200)*100)"
   ]
  }
 ],
 "metadata": {
  "kernelspec": {
   "display_name": "Python 3",
   "language": "python",
   "name": "python3"
  },
  "language_info": {
   "codemirror_mode": {
    "name": "ipython",
    "version": 3
   },
   "file_extension": ".py",
   "mimetype": "text/x-python",
   "name": "python",
   "nbconvert_exporter": "python",
   "pygments_lexer": "ipython3",
   "version": "3.7.0"
  }
 },
 "nbformat": 4,
 "nbformat_minor": 2
}
