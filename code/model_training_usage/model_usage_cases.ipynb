{
 "cells": [
  {
   "cell_type": "markdown",
   "metadata": {},
   "source": [
    "# Model usage on Solutions for Caseses\n",
    "\n",
    "In this notebook the model that is trained on judgements is used on case solutions."
   ]
  },
  {
   "cell_type": "code",
   "execution_count": 1,
   "metadata": {},
   "outputs": [],
   "source": [
    "# all imports for the notebook\n",
    "\n",
    "# data handling\n",
    "import json\n",
    "import numpy as np\n",
    "import pandas as pd\n",
    "\n",
    "# visualisation\n",
    "import matplotlib.pyplot as plt\n",
    "import seaborn as sns\n",
    "\n",
    "# machine learning\n",
    "from sklearn.model_selection import train_test_split\n",
    "from sklearn.model_selection import KFold\n",
    "from sklearn import metrics\n",
    "\n",
    "# system paths\n",
    "import os\n",
    "\n",
    "# miscellaneous\n",
    "import pprint\n",
    "import itertools\n",
    "import re\n",
    "import pickle\n",
    "import warnings\n",
    "warnings.filterwarnings('ignore') "
   ]
  },
  {
   "cell_type": "markdown",
   "metadata": {},
   "source": [
    "## Data loading\n",
    "\n",
    "In this step the JSON file is loaded and the data is split into a 80/20 train test split."
   ]
  },
  {
   "cell_type": "code",
   "execution_count": 2,
   "metadata": {},
   "outputs": [],
   "source": [
    "with open('clean_cases.json', encoding='utf-8') as file:\n",
    "    data = json.load(file)    \n",
    "    \n",
    "corpus = []    \n",
    "for key in data.keys():\n",
    "    for sentence in data[key]:\n",
    "        corpus.append(sentence[0])\n",
    "            \n",
    "corpus_labels = []\n",
    "for key in data.keys():\n",
    "    for sentence in data[key]:\n",
    "        corpus_labels.append(sentence[1])\n",
    "            \n",
    "X = np.array(corpus)\n",
    "y = np.array(corpus_labels)\n",
    "                \n",
    "# train/test split with 80/20 split\n",
    "X_train, X_test, y_train, y_test = train_test_split(X, y, test_size=0.2)"
   ]
  },
  {
   "cell_type": "markdown",
   "metadata": {},
   "source": [
    "## Model usage and Evaluation\n",
    "\n",
    "In this step the trained model is loaded and used on the new corpus. At first with a 5 fold cross validation on the train set and then an evaluation on the test set."
   ]
  },
  {
   "cell_type": "code",
   "execution_count": 3,
   "metadata": {},
   "outputs": [],
   "source": [
    "with open('classifier_own.pkl', 'rb') as file:\n",
    "    clf = pickle.load(file)\n",
    "with open('vectorizer_tfidf.pkl', 'rb') as file:\n",
    "    vectorizer = pickle.load(file)\n",
    "with open('classifier_own_2.pkl', 'rb') as file:\n",
    "    clf2 = pickle.load(file)"
   ]
  },
  {
   "cell_type": "code",
   "execution_count": 4,
   "metadata": {},
   "outputs": [
    {
     "name": "stdout",
     "output_type": "stream",
     "text": [
      "              precision    recall  f1-score   support\n",
      "\n",
      "  definition       0.51      0.55      0.53        55\n",
      "       other       0.75      0.41      0.53        99\n",
      " subsumption       0.47      0.72      0.57        78\n",
      "\n",
      "    accuracy                           0.55       232\n",
      "   macro avg       0.58      0.56      0.54       232\n",
      "weighted avg       0.60      0.55      0.54       232\n",
      "\n",
      "              precision    recall  f1-score   support\n",
      "\n",
      "  definition       0.47      0.63      0.54        54\n",
      "       other       0.72      0.43      0.54       102\n",
      " subsumption       0.54      0.70      0.61        76\n",
      "\n",
      "    accuracy                           0.56       232\n",
      "   macro avg       0.58      0.59      0.56       232\n",
      "weighted avg       0.60      0.56      0.56       232\n",
      "\n",
      "              precision    recall  f1-score   support\n",
      "\n",
      "  definition       0.41      0.51      0.45        43\n",
      "       other       0.73      0.48      0.58        91\n",
      " subsumption       0.54      0.65      0.59        98\n",
      "\n",
      "    accuracy                           0.56       232\n",
      "   macro avg       0.56      0.55      0.54       232\n",
      "weighted avg       0.59      0.56      0.56       232\n",
      "\n",
      "              precision    recall  f1-score   support\n",
      "\n",
      "  definition       0.48      0.45      0.46        56\n",
      "       other       0.81      0.45      0.58        98\n",
      " subsumption       0.50      0.81      0.62        78\n",
      "\n",
      "    accuracy                           0.57       232\n",
      "   macro avg       0.60      0.57      0.55       232\n",
      "weighted avg       0.63      0.57      0.56       232\n",
      "\n",
      "              precision    recall  f1-score   support\n",
      "\n",
      "  definition       0.51      0.52      0.51        56\n",
      "       other       0.69      0.44      0.54        96\n",
      " subsumption       0.50      0.71      0.59        80\n",
      "\n",
      "    accuracy                           0.55       232\n",
      "   macro avg       0.57      0.56      0.55       232\n",
      "weighted avg       0.58      0.55      0.55       232\n",
      "\n",
      "Accuracy: 0.5586206896551724\n",
      "Precision: 0.5754920538119579\n",
      "Recall: 0.5636719004029551\n",
      "F1-Score: 0.5492794935814043\n"
     ]
    }
   ],
   "source": [
    "kf = KFold()\n",
    "\n",
    "acc = 0\n",
    "pre = 0\n",
    "rec = 0\n",
    "f_1 = 0\n",
    "\n",
    "for train_index, test_index in kf.split(X_train):\n",
    "    X_training, X_testing = X_train[train_index], X_train[test_index]\n",
    "    y_training, y_testing = y_train[train_index], y_train[test_index]\n",
    "    \n",
    "    train = vectorizer.transform(X_training)\n",
    "    test = vectorizer.transform(X_testing)\n",
    "    predict = clf.predict(test)\n",
    "\n",
    "    acc += metrics.accuracy_score(y_testing, predict)   \n",
    "    metric = metrics.precision_recall_fscore_support(y_testing, predict, average='macro')\n",
    "    pre += metric[0]\n",
    "    rec += metric[1]\n",
    "    f_1 += metric[2]\n",
    "    print(metrics.classification_report(y_testing, predict))\n",
    "    \n",
    "print('Accuracy: ' + str(acc/5))\n",
    "print('Precision: ' + str(pre/5))\n",
    "print('Recall: ' + str(rec/5))\n",
    "print('F1-Score: ' + str(f_1/5))"
   ]
  },
  {
   "cell_type": "code",
   "execution_count": 5,
   "metadata": {},
   "outputs": [
    {
     "name": "stdout",
     "output_type": "stream",
     "text": [
      "              precision    recall  f1-score   support\n",
      "\n",
      "  definition       0.58      0.43      0.49        79\n",
      "       other       0.75      0.45      0.57       119\n",
      " subsumption       0.48      0.83      0.61        93\n",
      "\n",
      "    accuracy                           0.57       291\n",
      "   macro avg       0.60      0.57      0.56       291\n",
      "weighted avg       0.62      0.57      0.56       291\n",
      "\n"
     ]
    }
   ],
   "source": [
    "train = vectorizer.transform(X_train)\n",
    "test = vectorizer.transform(X_test)\n",
    "\n",
    "predict = clf.predict(test)\n",
    "\n",
    "print(metrics.classification_report(y_test, predict))"
   ]
  },
  {
   "cell_type": "code",
   "execution_count": 6,
   "metadata": {},
   "outputs": [
    {
     "name": "stdout",
     "output_type": "stream",
     "text": [
      "              precision    recall  f1-score   support\n",
      "\n",
      "  definition       0.54      0.49      0.51        55\n",
      "       other       0.83      0.35      0.50        99\n",
      " subsumption       0.44      0.78      0.56        78\n",
      "\n",
      "    accuracy                           0.53       232\n",
      "   macro avg       0.60      0.54      0.52       232\n",
      "weighted avg       0.63      0.53      0.52       232\n",
      "\n",
      "              precision    recall  f1-score   support\n",
      "\n",
      "  definition       0.44      0.44      0.44        54\n",
      "       other       0.73      0.35      0.48       102\n",
      " subsumption       0.46      0.78      0.58        76\n",
      "\n",
      "    accuracy                           0.51       232\n",
      "   macro avg       0.55      0.52      0.50       232\n",
      "weighted avg       0.58      0.51      0.50       232\n",
      "\n",
      "              precision    recall  f1-score   support\n",
      "\n",
      "  definition       0.41      0.42      0.41        43\n",
      "       other       0.80      0.48      0.60        91\n",
      " subsumption       0.55      0.74      0.63        98\n",
      "\n",
      "    accuracy                           0.58       232\n",
      "   macro avg       0.59      0.55      0.55       232\n",
      "weighted avg       0.62      0.58      0.58       232\n",
      "\n",
      "              precision    recall  f1-score   support\n",
      "\n",
      "  definition       0.48      0.38      0.42        56\n",
      "       other       0.85      0.40      0.54        98\n",
      " subsumption       0.48      0.87      0.62        78\n",
      "\n",
      "    accuracy                           0.55       232\n",
      "   macro avg       0.60      0.55      0.53       232\n",
      "weighted avg       0.63      0.55      0.54       232\n",
      "\n",
      "              precision    recall  f1-score   support\n",
      "\n",
      "  definition       0.54      0.50      0.52        56\n",
      "       other       0.78      0.36      0.50        96\n",
      " subsumption       0.47      0.80      0.60        80\n",
      "\n",
      "    accuracy                           0.55       232\n",
      "   macro avg       0.60      0.55      0.54       232\n",
      "weighted avg       0.62      0.55      0.54       232\n",
      "\n",
      "Accuracy: 0.5448275862068966\n",
      "Precision: 0.5865199210433102\n",
      "Recall: 0.5437702413032711\n",
      "F1-Score: 0.5270656825272457\n"
     ]
    }
   ],
   "source": [
    "kf = KFold()\n",
    "\n",
    "acc = 0\n",
    "pre = 0\n",
    "rec = 0\n",
    "f_1 = 0\n",
    "\n",
    "for train_index, test_index in kf.split(X_train):\n",
    "    X_training, X_testing = X_train[train_index], X_train[test_index]\n",
    "    y_training, y_testing = y_train[train_index], y_train[test_index]\n",
    "    \n",
    "    train = vectorizer.transform(X_training)\n",
    "    test = vectorizer.transform(X_testing)\n",
    "    predict = clf2.predict(test)\n",
    "\n",
    "    acc += metrics.accuracy_score(y_testing, predict)   \n",
    "    metric = metrics.precision_recall_fscore_support(y_testing, predict, average='macro')\n",
    "    pre += metric[0]\n",
    "    rec += metric[1]\n",
    "    f_1 += metric[2]\n",
    "    print(metrics.classification_report(y_testing, predict))\n",
    "    \n",
    "print('Accuracy: ' + str(acc/5))\n",
    "print('Precision: ' + str(pre/5))\n",
    "print('Recall: ' + str(rec/5))\n",
    "print('F1-Score: ' + str(f_1/5))"
   ]
  },
  {
   "cell_type": "code",
   "execution_count": 7,
   "metadata": {},
   "outputs": [
    {
     "name": "stdout",
     "output_type": "stream",
     "text": [
      "              precision    recall  f1-score   support\n",
      "\n",
      "  definition       0.60      0.38      0.47        79\n",
      "       other       0.75      0.39      0.52       119\n",
      " subsumption       0.46      0.88      0.61        93\n",
      "\n",
      "    accuracy                           0.55       291\n",
      "   macro avg       0.60      0.55      0.53       291\n",
      "weighted avg       0.62      0.55      0.53       291\n",
      "\n"
     ]
    }
   ],
   "source": [
    "train = vectorizer.transform(X_train)\n",
    "test = vectorizer.transform(X_test)\n",
    "\n",
    "predict = clf2.predict(test)\n",
    "\n",
    "print(metrics.classification_report(y_test, predict))"
   ]
  }
 ],
 "metadata": {
  "kernelspec": {
   "display_name": "Python 3",
   "language": "python",
   "name": "python3"
  },
  "language_info": {
   "codemirror_mode": {
    "name": "ipython",
    "version": 3
   },
   "file_extension": ".py",
   "mimetype": "text/x-python",
   "name": "python",
   "nbconvert_exporter": "python",
   "pygments_lexer": "ipython3",
   "version": "3.7.0"
  }
 },
 "nbformat": 4,
 "nbformat_minor": 2
}
